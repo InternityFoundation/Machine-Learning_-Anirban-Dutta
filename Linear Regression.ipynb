{
 "cells": [
  {
   "cell_type": "code",
   "execution_count": 1,
   "metadata": {},
   "outputs": [],
   "source": []
  },
  {
   "cell_type": "code",
   "execution_count": null,
   "metadata": {},
   "outputs": [],
   "source": [
    "# Using Linear Regression Inbuilt Function."
   ]
  },
  {
   "cell_type": "code",
   "execution_count": 2,
   "metadata": {},
   "outputs": [],
   "source": [
    "import numpy as np"
   ]
  },
  {
   "cell_type": "code",
   "execution_count": 10,
   "metadata": {},
   "outputs": [
    {
     "data": {
      "text/plain": [
       "(100, 2)"
      ]
     },
     "execution_count": 10,
     "metadata": {},
     "output_type": "execute_result"
    }
   ],
   "source": [
    "data=np.loadtxt(\"/Users/anirbandutta/Desktop/data.csv\",delimiter=\",\")\n",
    "data.shape"
   ]
  },
  {
   "cell_type": "code",
   "execution_count": 11,
   "metadata": {},
   "outputs": [],
   "source": [
    "x=data[:,0].reshape(-1,1) # data[:,0] will give 1D array and for input of X it should be in 2d form.\n",
    "y=data[:,1]"
   ]
  },
  {
   "cell_type": "code",
   "execution_count": 12,
   "metadata": {},
   "outputs": [
    {
     "data": {
      "text/plain": [
       "(100, 1)"
      ]
     },
     "execution_count": 12,
     "metadata": {},
     "output_type": "execute_result"
    }
   ],
   "source": [
    "x.shape"
   ]
  },
  {
   "cell_type": "code",
   "execution_count": 39,
   "metadata": {},
   "outputs": [
    {
     "data": {
      "text/plain": [
       "(75,)"
      ]
     },
     "execution_count": 39,
     "metadata": {},
     "output_type": "execute_result"
    }
   ],
   "source": [
    "from sklearn import model_selection\n",
    "X_train,X_test,Y_train,Y_test=model_selection.train_test_split(x,y)\n"
   ]
  },
  {
   "cell_type": "code",
   "execution_count": 14,
   "metadata": {},
   "outputs": [
    {
     "data": {
      "text/plain": [
       "LinearRegression(copy_X=True, fit_intercept=True, n_jobs=1, normalize=False)"
      ]
     },
     "execution_count": 14,
     "metadata": {},
     "output_type": "execute_result"
    }
   ],
   "source": [
    "from sklearn.linear_model import LinearRegression \n",
    "algo=LinearRegression()\n",
    "algo.fit(X_train,Y_train)\n"
   ]
  },
  {
   "cell_type": "code",
   "execution_count": 99,
   "metadata": {},
   "outputs": [
    {
     "data": {
      "text/plain": [
       "array([[1.32476436]])"
      ]
     },
     "execution_count": 99,
     "metadata": {},
     "output_type": "execute_result"
    }
   ],
   "source": [
    "algo.coef_# m of y=mx+c"
   ]
  },
  {
   "cell_type": "code",
   "execution_count": 16,
   "metadata": {},
   "outputs": [
    {
     "data": {
      "text/plain": [
       "10.865566653930166"
      ]
     },
     "execution_count": 16,
     "metadata": {},
     "output_type": "execute_result"
    }
   ],
   "source": [
    "algo.intercept_ # c of y=mx+x"
   ]
  },
  {
   "cell_type": "code",
   "execution_count": 27,
   "metadata": {},
   "outputs": [
    {
     "data": {
      "text/plain": [
       "<function matplotlib.pyplot.show(*args, **kw)>"
      ]
     },
     "execution_count": 27,
     "metadata": {},
     "output_type": "execute_result"
    },
    {
     "data": {
      "image/png": "[encoded data removed]",
      "text/plain": [
       "<Figure size 432x288 with 1 Axes>"
      ]
     },
     "metadata": {},
     "output_type": "display_data"
    }
   ],
   "source": [
    "import matplotlib.pyplot as plt\n",
    "m=algo.coef_[0]\n",
    "c=algo.intercept_ \n",
    "\n",
    "x_line=np.arange(30,70,0.1)\n",
    "y_line=m*x_line +c\n",
    "\n",
    "plt.plot(x_line,y_line,'r')\n",
    "#train_1d=X_train.reshape(75)\n",
    "plt.scatter(X_train,Y_train)\n",
    "plt.show"
   ]
  },
  {
   "cell_type": "code",
   "execution_count": null,
   "metadata": {},
   "outputs": [],
   "source": []
  },
  {
   "cell_type": "code",
   "execution_count": 23,
   "metadata": {},
   "outputs": [
    {
     "data": {
      "text/plain": [
       "<function matplotlib.pyplot.show(*args, **kw)>"
      ]
     },
     "execution_count": 23,
     "metadata": {},
     "output_type": "execute_result"
    },
    {
     "data": {
      "image/png": "[encoded data removed]",
      "text/plain": [
       "<Figure size 432x288 with 1 Axes>"
      ]
     },
     "metadata": {},
     "output_type": "display_data"
    }
   ],
   "source": [
    "import matplotlib.pyplot as plt\n",
    "m=algo.coef_[0]\n",
    "c=algo.intercept_ \n",
    "\n",
    "x_line=np.arange(30,70,0.1)\n",
    "y_line=m*x_line +c\n",
    "\n",
    "plt.plot(x_line,y_line,'r')\n",
    "train_1d=X_test.reshape(25)\n",
    "plt.scatter(X_test,Y_test)\n",
    "plt.show"
   ]
  },
  {
   "cell_type": "code",
   "execution_count": 30,
   "metadata": {},
   "outputs": [
    {
     "data": {
      "text/plain": [
       "(4,)"
      ]
     },
     "execution_count": 30,
     "metadata": {},
     "output_type": "execute_result"
    }
   ],
   "source": [
    "import numpy as np\n",
    "X = np.array([1,2,3,4])\n",
    "X.shape"
   ]
  },
  {
   "cell_type": "code",
   "execution_count": 32,
   "metadata": {},
   "outputs": [
    {
     "data": {
      "text/plain": [
       "(0.645616598202534, 0.5739566482003957)"
      ]
     },
     "execution_count": 32,
     "metadata": {},
     "output_type": "execute_result"
    }
   ],
   "source": [
    "#Coefficient of Determination : 1-U/V, U~Error in prediction ,V~Error worst case(Mean) & prediction=mean.\n",
    "score_test=algo.score(X_test,Y_test) \n",
    "score_training=algo.score(X_train,Y_train)\n",
    "score_test,score_training"
   ]
  },
  {
   "cell_type": "code",
   "execution_count": 33,
   "metadata": {},
   "outputs": [
    {
     "data": {
      "text/plain": [
       "(75, 1)"
      ]
     },
     "execution_count": 33,
     "metadata": {},
     "output_type": "execute_result"
    }
   ],
   "source": [
    "X_train.shape"
   ]
  },
  {
   "cell_type": "code",
   "execution_count": null,
   "metadata": {},
   "outputs": [],
   "source": []
  },
  {
   "cell_type": "code",
   "execution_count": 41,
   "metadata": {},
   "outputs": [],
   "source": [
    "# Using our Own Linear Regression Function"
   ]
  },
  {
   "cell_type": "code",
   "execution_count": 42,
   "metadata": {},
   "outputs": [
    {
     "data": {
      "text/plain": [
       "(100, 2)"
      ]
     },
     "execution_count": 42,
     "metadata": {},
     "output_type": "execute_result"
    }
   ],
   "source": [
    "import numpy as np\n",
    "data=np.loadtxt(\"/Users/anirbandutta/Desktop/data.csv\",delimiter=\",\")\n",
    "data.shape"
   ]
  },
  {
   "cell_type": "code",
   "execution_count": 44,
   "metadata": {},
   "outputs": [
    {
     "name": "stdout",
     "output_type": "stream",
     "text": [
      "X is :  [32.50234527 53.42680403 61.53035803 47.47563963 59.81320787 55.14218841\n",
      " 52.21179669 39.29956669 48.10504169 52.55001444 45.41973014 54.35163488\n",
      " 44.1640495  58.16847072 56.72720806 48.95588857 44.68719623 60.29732685\n",
      " 45.61864377 38.81681754 66.18981661 65.41605175 47.48120861 41.57564262\n",
      " 51.84518691 59.37082201 57.31000344 63.61556125 46.73761941 50.55676015\n",
      " 52.22399609 35.56783005 42.43647694 58.16454011 57.50444762 45.44053073\n",
      " 61.89622268 33.09383174 36.43600951 37.67565486 44.55560838 43.31828263\n",
      " 50.07314563 43.87061265 62.99748075 32.66904376 40.16689901 53.57507753\n",
      " 33.86421497 64.70713867 38.11982403 44.50253806 40.59953838 41.72067636\n",
      " 51.08863468 55.0780959  41.37772653 62.49469743 49.20388754 41.10268519\n",
      " 41.18201611 50.18638949 52.37844622 50.13548549 33.64470601 39.55790122\n",
      " 56.13038882 57.36205213 60.26921439 35.67809389 31.588117   53.66093226\n",
      " 46.68222865 43.10782022 70.34607562 44.49285588 57.5045333  36.93007661\n",
      " 55.80573336 38.95476907 56.9012147  56.86890066 34.3331247  59.04974121\n",
      " 57.78822399 54.28232871 51.0887199  50.28283635 44.21174175 38.00548801\n",
      " 32.94047994 53.69163957 68.76573427 46.2309665  68.31936082 50.03017434\n",
      " 49.23976534 50.03957594 48.14985889 25.12848465]\n",
      "Y is :  [ 31.70700585  68.77759598  62.5623823   71.54663223  87.23092513\n",
      "  78.21151827  79.64197305  59.17148932  75.3312423   71.30087989\n",
      "  55.16567715  82.47884676  62.00892325  75.39287043  81.43619216\n",
      "  60.72360244  82.89250373  97.37989686  48.84715332  56.87721319\n",
      "  83.87856466 118.5912173   57.25181946  51.39174408  75.38065167\n",
      "  74.76556403  95.45505292  95.22936602  79.05240617  83.43207142\n",
      "  63.35879032  41.4128853   76.61734128  96.76956643  74.08413012\n",
      "  66.58814441  77.76848242  50.71958891  62.12457082  60.81024665\n",
      "  52.68298337  58.56982472  82.90598149  61.4247098  115.2441528\n",
      "  45.57058882  54.0840548   87.99445276  52.72549438  93.57611869\n",
      "  80.16627545  65.10171157  65.56230126  65.28088692  73.43464155\n",
      "  71.13972786  79.10282968  86.52053844  84.74269781  59.35885025\n",
      "  61.68403752  69.84760416  86.09829121  59.10883927  69.89968164\n",
      "  44.86249071  85.49806778  95.53668685  70.25193442  52.72173496\n",
      "  50.39267014  63.64239878  72.24725107  57.81251298 104.25710159\n",
      "  86.64202032  91.486778    55.23166089  79.55043668  44.84712424\n",
      "  80.20752314  83.14274979  55.72348926  77.63418251  99.05141484\n",
      "  79.12064627  69.58889785  69.51050331  73.68756432  61.36690454\n",
      "  67.17065577  85.66820315 114.85387123  90.12357207  97.91982104\n",
      "  81.53699078  72.11183247  85.23200734  66.22495789  53.45439421]\n"
     ]
    }
   ],
   "source": [
    "x=data[:,0]\n",
    "y=data[:,1]\n",
    "print(\"X is : \",x)\n",
    "print(\"Y is : \",y)"
   ]
  },
  {
   "cell_type": "code",
   "execution_count": 59,
   "metadata": {},
   "outputs": [
    {
     "data": {
      "text/plain": [
       "(60,)"
      ]
     },
     "execution_count": 59,
     "metadata": {},
     "output_type": "execute_result"
    }
   ],
   "source": [
    "from sklearn import model_selection\n",
    "X_train,X_test,Y_train,Y_test=model_selection.train_test_split(x,y,test_size=0.40) # 35% test and 65% train\n",
    "X_train.shape"
   ]
  },
  {
   "cell_type": "code",
   "execution_count": 60,
   "metadata": {},
   "outputs": [],
   "source": [
    "def fit(X_train,Y_train):\n",
    "    num=(X_train*Y_train).mean()-(X_train.mean()*Y_train.mean())\n",
    "    den=(X_train*X_train).mean()-((X_train.mean())**2)\n",
    "    m=num/den\n",
    "    c=Y_train.mean()-(m*X_train.mean())\n",
    "    return m,c"
   ]
  },
  {
   "cell_type": "code",
   "execution_count": 64,
   "metadata": {},
   "outputs": [],
   "source": [
    "def predict(x,m,c):\n",
    "    return m * x + c\n",
    "\n",
    "def score(y_truth,y_pred):\n",
    "    u=((y_truth - y_pred)**2).sum()\n",
    "    v=((y_truth - y_truth.mean())**2).sum()\n",
    "    return 1 - u/v \n",
    "\n",
    "def cost(x,y,m,c):\n",
    "    return ((y - m * x - c )**2).mean()\n",
    "\n",
    "\n"
   ]
  },
  {
   "cell_type": "code",
   "execution_count": 65,
   "metadata": {},
   "outputs": [
    {
     "name": "stdout",
     "output_type": "stream",
     "text": [
      "Test Score: 0.5809099101888653\n",
      "Train score : 0.5954675649318457\n",
      "M and C :  1.3247643594508385 7.390088142116369\n",
      "Cost on training data : 108.93069709778533\n"
     ]
    }
   ],
   "source": [
    "m,c=fit(X_train,Y_train)\n",
    "# test data\n",
    "y_test_pred=predict(X_test,m,c)\n",
    "print(\"Test Score:\",score(Y_test,y_test_pred))\n",
    "\n",
    "#train data\n",
    "y_train_pred=predict(X_train,m,c)\n",
    "print(\"Train score :\",score(Y_train,y_train_pred))\n",
    "\n",
    "print(\"M and C : \",m , c )\n",
    "\n",
    "print(\"Cost on training data :\",cost(X_train,Y_train,m,c))\n"
   ]
  },
  {
   "cell_type": "code",
   "execution_count": null,
   "metadata": {},
   "outputs": [],
   "source": []
  },
  {
   "cell_type": "code",
   "execution_count": 67,
   "metadata": {},
   "outputs": [],
   "source": [
    "# trying my inbuilt Linear Regression"
   ]
  },
  {
   "cell_type": "code",
   "execution_count": 72,
   "metadata": {},
   "outputs": [],
   "source": []
  },
  {
   "cell_type": "code",
   "execution_count": 74,
   "metadata": {},
   "outputs": [],
   "source": [
    "x_train=X_train.reshape(-1,1)\n",
    "y_train=Y_train.reshape(-1,1)\n"
   ]
  },
  {
   "cell_type": "code",
   "execution_count": 76,
   "metadata": {},
   "outputs": [
    {
     "data": {
      "text/plain": [
       "LinearRegression(copy_X=True, fit_intercept=True, n_jobs=1, normalize=False)"
      ]
     },
     "execution_count": 76,
     "metadata": {},
     "output_type": "execute_result"
    }
   ],
   "source": [
    "from sklearn.linear_model import LinearRegression \n",
    "algo=LinearRegression()\n",
    "algo.fit(x_train,y_train)\n"
   ]
  },
  {
   "cell_type": "code",
   "execution_count": 78,
   "metadata": {},
   "outputs": [
    {
     "name": "stdout",
     "output_type": "stream",
     "text": [
      "Value of M : [[1.32476436]]\n",
      "Value of C : [7.39008814]\n"
     ]
    }
   ],
   "source": [
    "print(\"Value of M :\",algo.coef_)# m of y=mx+c\n",
    "print(\"Value of C :\",algo.intercept_) # c of y=mx+x"
   ]
  },
  {
   "cell_type": "code",
   "execution_count": 79,
   "metadata": {},
   "outputs": [],
   "source": [
    "x_test=X_test.reshape(-1,1)\n",
    "y_test=Y_test.reshape(-1,1)"
   ]
  },
  {
   "cell_type": "code",
   "execution_count": 84,
   "metadata": {},
   "outputs": [
    {
     "name": "stdout",
     "output_type": "stream",
     "text": [
      "Score test and Train test : 0.5809099101888653 , 0.5954675649318457\n"
     ]
    }
   ],
   "source": [
    "#Coefficient of Determination : 1-U/V, U~Error in prediction ,V~Error worst case(Mean) & prediction=mean.\n",
    "score_test=algo.score(x_test,y_test) \n",
    "score_training=algo.score(x_train,y_train)\n",
    "print(\"Score test and Train test :\",score_test,\",\",score_training)"
   ]
  },
  {
   "cell_type": "code",
   "execution_count": 90,
   "metadata": {},
   "outputs": [],
   "source": [
    "\n",
    "np.savetxt('y_test.csv', y_test, fmt='%.5f')   # use exponential notation\n"
   ]
  },
  {
   "cell_type": "code",
   "execution_count": null,
   "metadata": {},
   "outputs": [],
   "source": []
  }
 ],
 "metadata": {
  "kernelspec": {
   "display_name": "Python 3",
   "language": "python",
   "name": "python3"
  },
  "language_info": {
   "codemirror_mode": {
    "name": "ipython",
    "version": 3
   },
   "file_extension": ".py",
   "mimetype": "text/x-python",
   "name": "python",
   "nbconvert_exporter": "python",
   "pygments_lexer": "ipython3",
   "version": "3.6.5"
  }
 },
 "nbformat": 4,
 "nbformat_minor": 2
}
