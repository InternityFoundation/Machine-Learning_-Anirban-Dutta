{
 "cells": [
  {
   "cell_type": "code",
   "execution_count": 1,
   "metadata": {},
   "outputs": [],
   "source": [
    "from sklearn import datasets,svm\n",
    "from sklearn.model_selection import train_test_split\n",
    "import numpy as np\n",
    "import matplotlib.pyplot as plt"
   ]
  },
  {
   "cell_type": "code",
   "execution_count": 2,
   "metadata": {},
   "outputs": [],
   "source": [
    "iris = datasets.load_iris()\n",
    "x = iris.data[:,0:2]\n",
    "y = iris.target"
   ]
  },
  {
   "cell_type": "code",
   "execution_count": 3,
   "metadata": {},
   "outputs": [],
   "source": [
    "x_train , x_test , y_train , y_test = train_test_split(x , y)"
   ]
  },
  {
   "cell_type": "code",
   "execution_count": 18,
   "metadata": {},
   "outputs": [
    {
     "data": {
      "text/plain": [
       "SVC(C=1.0, cache_size=200, class_weight=None, coef0=0.0,\n",
       "  decision_function_shape='ovr', degree=3, gamma='auto', kernel='linear',\n",
       "  max_iter=-1, probability=False, random_state=None, shrinking=True,\n",
       "  tol=0.001, verbose=False)"
      ]
     },
     "execution_count": 18,
     "metadata": {},
     "output_type": "execute_result"
    }
   ],
   "source": [
    "clf = svm.SVC(kernel = 'linear')\n",
    "clf.fit(x_train,y_train)"
   ]
  },
  {
   "cell_type": "code",
   "execution_count": 19,
   "metadata": {},
   "outputs": [
    {
     "data": {
      "text/plain": [
       "0.7894736842105263"
      ]
     },
     "execution_count": 19,
     "metadata": {},
     "output_type": "execute_result"
    }
   ],
   "source": [
    "clf.score(x_test,y_test)"
   ]
  },
  {
   "cell_type": "code",
   "execution_count": 20,
   "metadata": {},
   "outputs": [],
   "source": [
    "def makegrid(x1 , x2 , h =0.02) :\n",
    "    x1_min,x1_max = x1.min() - 1 , x1.max()+1\n",
    "    x2_min , x2_max = x2.min() - 1 , x2.max()+1\n",
    "    a = np.arange(x1_min ,x1_max,h)\n",
    "    b = np.arange(x2_min ,x2_max,h)\n",
    "    xx , yy = np.meshgrid(a,b)\n",
    "    return xx , yy "
   ]
  },
  {
   "cell_type": "code",
   "execution_count": 12,
   "metadata": {},
   "outputs": [
    {
     "name": "stdout",
     "output_type": "stream",
     "text": [
      "(array([[0.  , 0.02, 0.04, ..., 3.94, 3.96, 3.98],\n",
      "       [0.  , 0.02, 0.04, ..., 3.94, 3.96, 3.98],\n",
      "       [0.  , 0.02, 0.04, ..., 3.94, 3.96, 3.98],\n",
      "       ...,\n",
      "       [0.  , 0.02, 0.04, ..., 3.94, 3.96, 3.98],\n",
      "       [0.  , 0.02, 0.04, ..., 3.94, 3.96, 3.98],\n",
      "       [0.  , 0.02, 0.04, ..., 3.94, 3.96, 3.98]]), array([[2.  , 2.  , 2.  , ..., 2.  , 2.  , 2.  ],\n",
      "       [2.02, 2.02, 2.02, ..., 2.02, 2.02, 2.02],\n",
      "       [2.04, 2.04, 2.04, ..., 2.04, 2.04, 2.04],\n",
      "       ...,\n",
      "       [5.94, 5.94, 5.94, ..., 5.94, 5.94, 5.94],\n",
      "       [5.96, 5.96, 5.96, ..., 5.96, 5.96, 5.96],\n",
      "       [5.98, 5.98, 5.98, ..., 5.98, 5.98, 5.98]]))\n"
     ]
    }
   ],
   "source": [
    "x1 = np.array([1,3])\n",
    "x2 = np.array([3,5])\n",
    "print(makegrid(x1,x2))"
   ]
  },
  {
   "cell_type": "code",
   "execution_count": 21,
   "metadata": {},
   "outputs": [
    {
     "data": {
      "image/png": "[encoded data removed]",
      "text/plain": [
       "<Figure size 432x288 with 1 Axes>"
      ]
     },
     "metadata": {},
     "output_type": "display_data"
    }
   ],
   "source": [
    "xx , yy = makegrid(x[:,0],x[:,1])\n",
    "predictions = clf.predict(np.c_[xx.ravel(),yy.ravel()])\n",
    "plt.scatter(xx.ravel(),yy.ravel(),c = predictions)\n",
    "plt.show()"
   ]
  }
 ],
 "metadata": {
  "kernelspec": {
   "display_name": "Python 3",
   "language": "python",
   "name": "python3"
  },
  "language_info": {
   "codemirror_mode": {
    "name": "ipython",
    "version": 3
   },
   "file_extension": ".py",
   "mimetype": "text/x-python",
   "name": "python",
   "nbconvert_exporter": "python",
   "pygments_lexer": "ipython3",
   "version": "3.6.5"
  }
 },
 "nbformat": 4,
 "nbformat_minor": 2
}
